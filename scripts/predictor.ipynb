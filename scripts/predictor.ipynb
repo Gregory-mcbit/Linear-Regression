{
 "cells": [
  {
   "cell_type": "code",
   "execution_count": 7,
   "metadata": {
    "collapsed": true
   },
   "outputs": [
    {
     "data": {
      "text/plain": "         open    high      low   close  adjusted close      volume  \\\n0     148.130  150.42  146.925  150.18      150.180000  51804132.0   \n1     150.160  150.37  147.715  148.01      148.010000  58724070.0   \n2     152.305  152.70  149.970  151.29      151.290000  74829573.0   \n3     146.430  151.48  146.150  150.72      150.720000  80389400.0   \n4     149.130  149.87  147.290  148.79      148.790000  64218266.0   \n...       ...     ...      ...     ...             ...         ...   \n5799   84.620   88.37   84.000   88.31        0.672034   3721500.0   \n5800   82.060   85.37   80.620   83.62        0.636344   3384700.0   \n5801   81.620   83.25   81.000   81.50        0.620210   2932700.0   \n5802   78.000   81.69   77.310   80.25        0.610698   3564600.0   \n5803   80.000   80.69   77.370   77.62        0.590684   2487300.0   \n\n      dividend amount  split coefficient      date  \n0                 0.0                1.0  19991101  \n1                 0.0                1.0  19991101  \n2                 0.0                1.0  19991101  \n3                 0.0                1.0  19991101  \n4                 0.0                1.0  19991101  \n...               ...                ...       ...  \n5799              0.0                1.0  19991101  \n5800              0.0                1.0  19991101  \n5801              0.0                1.0  19991101  \n5802              0.0                1.0  19991101  \n5803              0.0                1.0  19991101  \n\n[5804 rows x 9 columns]",
      "text/html": "<div>\n<style scoped>\n    .dataframe tbody tr th:only-of-type {\n        vertical-align: middle;\n    }\n\n    .dataframe tbody tr th {\n        vertical-align: top;\n    }\n\n    .dataframe thead th {\n        text-align: right;\n    }\n</style>\n<table border=\"1\" class=\"dataframe\">\n  <thead>\n    <tr style=\"text-align: right;\">\n      <th></th>\n      <th>open</th>\n      <th>high</th>\n      <th>low</th>\n      <th>close</th>\n      <th>adjusted close</th>\n      <th>volume</th>\n      <th>dividend amount</th>\n      <th>split coefficient</th>\n      <th>date</th>\n    </tr>\n  </thead>\n  <tbody>\n    <tr>\n      <th>0</th>\n      <td>148.130</td>\n      <td>150.42</td>\n      <td>146.925</td>\n      <td>150.18</td>\n      <td>150.180000</td>\n      <td>51804132.0</td>\n      <td>0.0</td>\n      <td>1.0</td>\n      <td>19991101</td>\n    </tr>\n    <tr>\n      <th>1</th>\n      <td>150.160</td>\n      <td>150.37</td>\n      <td>147.715</td>\n      <td>148.01</td>\n      <td>148.010000</td>\n      <td>58724070.0</td>\n      <td>0.0</td>\n      <td>1.0</td>\n      <td>19991101</td>\n    </tr>\n    <tr>\n      <th>2</th>\n      <td>152.305</td>\n      <td>152.70</td>\n      <td>149.970</td>\n      <td>151.29</td>\n      <td>151.290000</td>\n      <td>74829573.0</td>\n      <td>0.0</td>\n      <td>1.0</td>\n      <td>19991101</td>\n    </tr>\n    <tr>\n      <th>3</th>\n      <td>146.430</td>\n      <td>151.48</td>\n      <td>146.150</td>\n      <td>150.72</td>\n      <td>150.720000</td>\n      <td>80389400.0</td>\n      <td>0.0</td>\n      <td>1.0</td>\n      <td>19991101</td>\n    </tr>\n    <tr>\n      <th>4</th>\n      <td>149.130</td>\n      <td>149.87</td>\n      <td>147.290</td>\n      <td>148.79</td>\n      <td>148.790000</td>\n      <td>64218266.0</td>\n      <td>0.0</td>\n      <td>1.0</td>\n      <td>19991101</td>\n    </tr>\n    <tr>\n      <th>...</th>\n      <td>...</td>\n      <td>...</td>\n      <td>...</td>\n      <td>...</td>\n      <td>...</td>\n      <td>...</td>\n      <td>...</td>\n      <td>...</td>\n      <td>...</td>\n    </tr>\n    <tr>\n      <th>5799</th>\n      <td>84.620</td>\n      <td>88.37</td>\n      <td>84.000</td>\n      <td>88.31</td>\n      <td>0.672034</td>\n      <td>3721500.0</td>\n      <td>0.0</td>\n      <td>1.0</td>\n      <td>19991101</td>\n    </tr>\n    <tr>\n      <th>5800</th>\n      <td>82.060</td>\n      <td>85.37</td>\n      <td>80.620</td>\n      <td>83.62</td>\n      <td>0.636344</td>\n      <td>3384700.0</td>\n      <td>0.0</td>\n      <td>1.0</td>\n      <td>19991101</td>\n    </tr>\n    <tr>\n      <th>5801</th>\n      <td>81.620</td>\n      <td>83.25</td>\n      <td>81.000</td>\n      <td>81.50</td>\n      <td>0.620210</td>\n      <td>2932700.0</td>\n      <td>0.0</td>\n      <td>1.0</td>\n      <td>19991101</td>\n    </tr>\n    <tr>\n      <th>5802</th>\n      <td>78.000</td>\n      <td>81.69</td>\n      <td>77.310</td>\n      <td>80.25</td>\n      <td>0.610698</td>\n      <td>3564600.0</td>\n      <td>0.0</td>\n      <td>1.0</td>\n      <td>19991101</td>\n    </tr>\n    <tr>\n      <th>5803</th>\n      <td>80.000</td>\n      <td>80.69</td>\n      <td>77.370</td>\n      <td>77.62</td>\n      <td>0.590684</td>\n      <td>2487300.0</td>\n      <td>0.0</td>\n      <td>1.0</td>\n      <td>19991101</td>\n    </tr>\n  </tbody>\n</table>\n<p>5804 rows × 9 columns</p>\n</div>"
     },
     "execution_count": 7,
     "metadata": {},
     "output_type": "execute_result"
    }
   ],
   "source": [
    "import predictor\n",
    "import settings\n",
    "import pandas as pd\n",
    "from sklearn import metrics\n",
    "from sklearn.linear_model import LinearRegression\n",
    "from sklearn.model_selection import train_test_split\n",
    "import numpy as np\n",
    "\n",
    "# dataset example\n",
    "# dataset = predictor.predict(url=\"\", example=True, example_url=f\"https://www.alphavantage.co/query?function=TIME_SERIES_INTRADAY&symbol=IBM&interval=5min&apikey={settings.settings['api_key']}\")\n",
    "\n",
    "url = \"https://www.alphavantage.co/query?function=TIME_SERIES_DAILY_ADJUSTED&symbol=AAPL&outputsize=full&apikey=JFXYWSTSKDJB8MJ2\"\n",
    "# real dataset\n",
    "\n",
    "dataset = predictor.predict(url, example=True)\n",
    "dataset"
   ]
  },
  {
   "cell_type": "code",
   "execution_count": 8,
   "outputs": [],
   "source": [
    "# close data contains close prices. open data the opposite - open prices\n",
    "close_data = dataset.iloc[:, 3]\n",
    "open_data = dataset.iloc[:, 0]\n",
    "\n",
    "# to predict close price, we need open price. same with open price\n",
    "# in dataset_with_closed we have close price to predict open price\n",
    "# in dataset_with_opened we have open price to predict close price\n",
    "dataset_with_closed, dataset_with_opened = dataset.drop(\"open\", axis=1), dataset.drop(\"close\", axis=1)"
   ],
   "metadata": {
    "collapsed": false
   }
  },
  {
   "cell_type": "code",
   "execution_count": 9,
   "outputs": [],
   "source": [
    "# splitting to train and test data to predict open price\n",
    "x_train_open, x_test_open, y_train_open, y_test_open = train_test_split(\n",
    "    dataset_with_closed,\n",
    "    open_data,\n",
    "    test_size=0.15,\n",
    "    random_state=False\n",
    ")"
   ],
   "metadata": {
    "collapsed": false
   }
  },
  {
   "cell_type": "code",
   "execution_count": 10,
   "outputs": [],
   "source": [
    "# splitting to train and test data to predict close price\n",
    "x_train_close, x_test_close, y_train_close, y_test_close = train_test_split(\n",
    "    dataset_with_opened,\n",
    "    close_data,\n",
    "    test_size=0.15,\n",
    "    random_state=False\n",
    ")"
   ],
   "metadata": {
    "collapsed": false
   }
  },
  {
   "cell_type": "code",
   "execution_count": 11,
   "outputs": [
    {
     "data": {
      "text/plain": "LinearRegression()"
     },
     "execution_count": 11,
     "metadata": {},
     "output_type": "execute_result"
    }
   ],
   "source": [
    "# linear regression for close price\n",
    "regressor_close = LinearRegression()\n",
    "regressor_close.fit(x_train_close, y_train_close)"
   ],
   "metadata": {
    "collapsed": false
   }
  },
  {
   "cell_type": "code",
   "execution_count": 12,
   "outputs": [],
   "source": [
    "# regressor_close.predict()"
   ],
   "metadata": {
    "collapsed": false
   }
  },
  {
   "cell_type": "code",
   "execution_count": 13,
   "outputs": [
    {
     "data": {
      "text/plain": "      Actual close price  Predicted close price\n1519              110.88             109.591855\n3457               88.37              89.677369\n895               202.86             203.306004\n5424               24.96              25.261651\n2033              105.11             105.125139\n...                  ...                    ...\n352               137.27             136.524897\n3957               88.00              87.732159\n3738              161.36             163.462381\n2714              493.42             494.579631\n1859              122.57             122.949332\n\n[871 rows x 2 columns]",
      "text/html": "<div>\n<style scoped>\n    .dataframe tbody tr th:only-of-type {\n        vertical-align: middle;\n    }\n\n    .dataframe tbody tr th {\n        vertical-align: top;\n    }\n\n    .dataframe thead th {\n        text-align: right;\n    }\n</style>\n<table border=\"1\" class=\"dataframe\">\n  <thead>\n    <tr style=\"text-align: right;\">\n      <th></th>\n      <th>Actual close price</th>\n      <th>Predicted close price</th>\n    </tr>\n  </thead>\n  <tbody>\n    <tr>\n      <th>1519</th>\n      <td>110.88</td>\n      <td>109.591855</td>\n    </tr>\n    <tr>\n      <th>3457</th>\n      <td>88.37</td>\n      <td>89.677369</td>\n    </tr>\n    <tr>\n      <th>895</th>\n      <td>202.86</td>\n      <td>203.306004</td>\n    </tr>\n    <tr>\n      <th>5424</th>\n      <td>24.96</td>\n      <td>25.261651</td>\n    </tr>\n    <tr>\n      <th>2033</th>\n      <td>105.11</td>\n      <td>105.125139</td>\n    </tr>\n    <tr>\n      <th>...</th>\n      <td>...</td>\n      <td>...</td>\n    </tr>\n    <tr>\n      <th>352</th>\n      <td>137.27</td>\n      <td>136.524897</td>\n    </tr>\n    <tr>\n      <th>3957</th>\n      <td>88.00</td>\n      <td>87.732159</td>\n    </tr>\n    <tr>\n      <th>3738</th>\n      <td>161.36</td>\n      <td>163.462381</td>\n    </tr>\n    <tr>\n      <th>2714</th>\n      <td>493.42</td>\n      <td>494.579631</td>\n    </tr>\n    <tr>\n      <th>1859</th>\n      <td>122.57</td>\n      <td>122.949332</td>\n    </tr>\n  </tbody>\n</table>\n<p>871 rows × 2 columns</p>\n</div>"
     },
     "execution_count": 13,
     "metadata": {},
     "output_type": "execute_result"
    }
   ],
   "source": [
    "# predicting close price\n",
    "close_predict = regressor_close.predict(x_test_close)\n",
    "df = pd.DataFrame({\"Actual close price\": y_test_close, \"Predicted close price\": close_predict})\n",
    "df"
   ],
   "metadata": {
    "collapsed": false
   }
  },
  {
   "cell_type": "code",
   "execution_count": 14,
   "outputs": [
    {
     "name": "stdout",
     "output_type": "stream",
     "text": [
      "Mean squared error for close price: 2.3887200955436616\n",
      "Mean absolute error for close price: 0.9030307069541926\n"
     ]
    }
   ],
   "source": [
    "# MSE for predicted close price\n",
    "print(f\"Mean squared error for close price: {metrics.mean_squared_error(y_test_close, close_predict)}\")\n",
    "\n",
    "# MAE for predicted close price\n",
    "print(f\"Mean absolute error for close price: {metrics.mean_absolute_error(y_test_close, close_predict)}\")"
   ],
   "metadata": {
    "collapsed": false
   }
  },
  {
   "cell_type": "code",
   "execution_count": 15,
   "outputs": [
    {
     "data": {
      "text/plain": "LinearRegression()"
     },
     "execution_count": 15,
     "metadata": {},
     "output_type": "execute_result"
    }
   ],
   "source": [
    "# linear regression for open price\n",
    "regressor_open = LinearRegression()\n",
    "regressor_open.fit(x_train_open, y_train_open)"
   ],
   "metadata": {
    "collapsed": false
   }
  },
  {
   "cell_type": "code",
   "execution_count": 16,
   "outputs": [
    {
     "data": {
      "text/plain": "      Actual open price  Predicted open price\n1519             109.88            109.074011\n3457              88.83             89.999232\n895              205.88            205.219280\n5424              25.97             25.835989\n2033             104.85            104.929126\n...                 ...                   ...\n352              136.60            135.847441\n3957              88.59             88.077675\n3738             161.71            163.902741\n2714             490.96            493.147009\n1859             124.48            124.217365\n\n[871 rows x 2 columns]",
      "text/html": "<div>\n<style scoped>\n    .dataframe tbody tr th:only-of-type {\n        vertical-align: middle;\n    }\n\n    .dataframe tbody tr th {\n        vertical-align: top;\n    }\n\n    .dataframe thead th {\n        text-align: right;\n    }\n</style>\n<table border=\"1\" class=\"dataframe\">\n  <thead>\n    <tr style=\"text-align: right;\">\n      <th></th>\n      <th>Actual open price</th>\n      <th>Predicted open price</th>\n    </tr>\n  </thead>\n  <tbody>\n    <tr>\n      <th>1519</th>\n      <td>109.88</td>\n      <td>109.074011</td>\n    </tr>\n    <tr>\n      <th>3457</th>\n      <td>88.83</td>\n      <td>89.999232</td>\n    </tr>\n    <tr>\n      <th>895</th>\n      <td>205.88</td>\n      <td>205.219280</td>\n    </tr>\n    <tr>\n      <th>5424</th>\n      <td>25.97</td>\n      <td>25.835989</td>\n    </tr>\n    <tr>\n      <th>2033</th>\n      <td>104.85</td>\n      <td>104.929126</td>\n    </tr>\n    <tr>\n      <th>...</th>\n      <td>...</td>\n      <td>...</td>\n    </tr>\n    <tr>\n      <th>352</th>\n      <td>136.60</td>\n      <td>135.847441</td>\n    </tr>\n    <tr>\n      <th>3957</th>\n      <td>88.59</td>\n      <td>88.077675</td>\n    </tr>\n    <tr>\n      <th>3738</th>\n      <td>161.71</td>\n      <td>163.902741</td>\n    </tr>\n    <tr>\n      <th>2714</th>\n      <td>490.96</td>\n      <td>493.147009</td>\n    </tr>\n    <tr>\n      <th>1859</th>\n      <td>124.48</td>\n      <td>124.217365</td>\n    </tr>\n  </tbody>\n</table>\n<p>871 rows × 2 columns</p>\n</div>"
     },
     "execution_count": 16,
     "metadata": {},
     "output_type": "execute_result"
    }
   ],
   "source": [
    "# predicting open price\n",
    "open_predict = regressor_open.predict(x_test_open)\n",
    "df = pd.DataFrame({\"Actual open price\": y_test_open, \"Predicted open price\": open_predict})\n",
    "df"
   ],
   "metadata": {
    "collapsed": false
   }
  },
  {
   "cell_type": "code",
   "execution_count": 17,
   "outputs": [
    {
     "name": "stdout",
     "output_type": "stream",
     "text": [
      "Mean squared error for close price: 2.323623115717956\n",
      "Mean absolute error for close price: 0.909965043705712\n"
     ]
    }
   ],
   "source": [
    "# MSE for predicted open price\n",
    "print(f\"Mean squared error for close price: {metrics.mean_squared_error(y_test_open, open_predict)}\")\n",
    "\n",
    "# MAE for predicted open price\n",
    "print(f\"Mean absolute error for close price: {metrics.mean_absolute_error(y_test_open, open_predict)}\")"
   ],
   "metadata": {
    "collapsed": false
   }
  },
  {
   "cell_type": "code",
   "execution_count": 17,
   "outputs": [],
   "source": [],
   "metadata": {
    "collapsed": false
   }
  }
 ],
 "metadata": {
  "kernelspec": {
   "display_name": "Python 3",
   "language": "python",
   "name": "python3"
  },
  "language_info": {
   "codemirror_mode": {
    "name": "ipython",
    "version": 2
   },
   "file_extension": ".py",
   "mimetype": "text/x-python",
   "name": "python",
   "nbconvert_exporter": "python",
   "pygments_lexer": "ipython2",
   "version": "2.7.6"
  }
 },
 "nbformat": 4,
 "nbformat_minor": 0
}
