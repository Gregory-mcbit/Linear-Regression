{
 "cells": [
  {
   "cell_type": "code",
   "execution_count": 10,
   "metadata": {
    "collapsed": true
   },
   "outputs": [
    {
     "data": {
      "text/plain": "         open    high       low   close  adjusted close      volume  \\\n0     146.430  151.48  146.1500  150.72      150.720000  80389400.0   \n1     149.130  149.87  147.2900  148.79      148.790000  64218266.0   \n2     152.215  153.59  148.5613  150.04      150.040000  89868332.0   \n3     148.970  150.28  147.4300  148.28      148.280000  73374114.0   \n4     145.820  150.01  144.3700  149.70      149.700000  93979665.0   \n...       ...     ...       ...     ...             ...         ...   \n5796   84.620   88.37   84.0000   88.31        0.672034   3721500.0   \n5797   82.060   85.37   80.6200   83.62        0.636344   3384700.0   \n5798   81.620   83.25   81.0000   81.50        0.620210   2932700.0   \n5799   78.000   81.69   77.3100   80.25        0.610698   3564600.0   \n5800   80.000   80.69   77.3700   77.62        0.590684   2487300.0   \n\n      dividend amount  split coefficient      date  \n0                 0.0                1.0  19991101  \n1                 0.0                1.0  19991101  \n2                 0.0                1.0  19991101  \n3                 0.0                1.0  19991101  \n4                 0.0                1.0  19991101  \n...               ...                ...       ...  \n5796              0.0                1.0  19991101  \n5797              0.0                1.0  19991101  \n5798              0.0                1.0  19991101  \n5799              0.0                1.0  19991101  \n5800              0.0                1.0  19991101  \n\n[5801 rows x 9 columns]",
      "text/html": "<div>\n<style scoped>\n    .dataframe tbody tr th:only-of-type {\n        vertical-align: middle;\n    }\n\n    .dataframe tbody tr th {\n        vertical-align: top;\n    }\n\n    .dataframe thead th {\n        text-align: right;\n    }\n</style>\n<table border=\"1\" class=\"dataframe\">\n  <thead>\n    <tr style=\"text-align: right;\">\n      <th></th>\n      <th>open</th>\n      <th>high</th>\n      <th>low</th>\n      <th>close</th>\n      <th>adjusted close</th>\n      <th>volume</th>\n      <th>dividend amount</th>\n      <th>split coefficient</th>\n      <th>date</th>\n    </tr>\n  </thead>\n  <tbody>\n    <tr>\n      <th>0</th>\n      <td>146.430</td>\n      <td>151.48</td>\n      <td>146.1500</td>\n      <td>150.72</td>\n      <td>150.720000</td>\n      <td>80389400.0</td>\n      <td>0.0</td>\n      <td>1.0</td>\n      <td>19991101</td>\n    </tr>\n    <tr>\n      <th>1</th>\n      <td>149.130</td>\n      <td>149.87</td>\n      <td>147.2900</td>\n      <td>148.79</td>\n      <td>148.790000</td>\n      <td>64218266.0</td>\n      <td>0.0</td>\n      <td>1.0</td>\n      <td>19991101</td>\n    </tr>\n    <tr>\n      <th>2</th>\n      <td>152.215</td>\n      <td>153.59</td>\n      <td>148.5613</td>\n      <td>150.04</td>\n      <td>150.040000</td>\n      <td>89868332.0</td>\n      <td>0.0</td>\n      <td>1.0</td>\n      <td>19991101</td>\n    </tr>\n    <tr>\n      <th>3</th>\n      <td>148.970</td>\n      <td>150.28</td>\n      <td>147.4300</td>\n      <td>148.28</td>\n      <td>148.280000</td>\n      <td>73374114.0</td>\n      <td>0.0</td>\n      <td>1.0</td>\n      <td>19991101</td>\n    </tr>\n    <tr>\n      <th>4</th>\n      <td>145.820</td>\n      <td>150.01</td>\n      <td>144.3700</td>\n      <td>149.70</td>\n      <td>149.700000</td>\n      <td>93979665.0</td>\n      <td>0.0</td>\n      <td>1.0</td>\n      <td>19991101</td>\n    </tr>\n    <tr>\n      <th>...</th>\n      <td>...</td>\n      <td>...</td>\n      <td>...</td>\n      <td>...</td>\n      <td>...</td>\n      <td>...</td>\n      <td>...</td>\n      <td>...</td>\n      <td>...</td>\n    </tr>\n    <tr>\n      <th>5796</th>\n      <td>84.620</td>\n      <td>88.37</td>\n      <td>84.0000</td>\n      <td>88.31</td>\n      <td>0.672034</td>\n      <td>3721500.0</td>\n      <td>0.0</td>\n      <td>1.0</td>\n      <td>19991101</td>\n    </tr>\n    <tr>\n      <th>5797</th>\n      <td>82.060</td>\n      <td>85.37</td>\n      <td>80.6200</td>\n      <td>83.62</td>\n      <td>0.636344</td>\n      <td>3384700.0</td>\n      <td>0.0</td>\n      <td>1.0</td>\n      <td>19991101</td>\n    </tr>\n    <tr>\n      <th>5798</th>\n      <td>81.620</td>\n      <td>83.25</td>\n      <td>81.0000</td>\n      <td>81.50</td>\n      <td>0.620210</td>\n      <td>2932700.0</td>\n      <td>0.0</td>\n      <td>1.0</td>\n      <td>19991101</td>\n    </tr>\n    <tr>\n      <th>5799</th>\n      <td>78.000</td>\n      <td>81.69</td>\n      <td>77.3100</td>\n      <td>80.25</td>\n      <td>0.610698</td>\n      <td>3564600.0</td>\n      <td>0.0</td>\n      <td>1.0</td>\n      <td>19991101</td>\n    </tr>\n    <tr>\n      <th>5800</th>\n      <td>80.000</td>\n      <td>80.69</td>\n      <td>77.3700</td>\n      <td>77.62</td>\n      <td>0.590684</td>\n      <td>2487300.0</td>\n      <td>0.0</td>\n      <td>1.0</td>\n      <td>19991101</td>\n    </tr>\n  </tbody>\n</table>\n<p>5801 rows × 9 columns</p>\n</div>"
     },
     "execution_count": 10,
     "metadata": {},
     "output_type": "execute_result"
    }
   ],
   "source": [
    "import predictor\n",
    "import settings\n",
    "import pandas as pd\n",
    "from sklearn import metrics\n",
    "from sklearn.linear_model import LogisticRegression\n",
    "from sklearn.model_selection import train_test_split\n",
    "from sklearn import preprocessing, utils\n",
    "\n",
    "# dataset example\n",
    "# dataset = predictor.predict(url=\"\", example=True, example_url=f\"https://www.alphavantage.co/query?function=TIME_SERIES_INTRADAY&symbol=IBM&interval=5min&apikey={settings.settings['api_key']}\")\n",
    "\n",
    "url = \"https://www.alphavantage.co/query?function=TIME_SERIES_DAILY_ADJUSTED&symbol=AAPL&outputsize=full&apikey=JFXYWSTSKDJB8MJ2\"\n",
    "# real dataset\n",
    "\n",
    "dataset = predictor.predict(url, example=True)\n",
    "dataset"
   ]
  },
  {
   "cell_type": "code",
   "execution_count": 6,
   "outputs": [],
   "source": [
    "# close data contains close prices. open data the opposite - open prices\n",
    "close_data = dataset.iloc[:, 3]\n",
    "open_data = dataset.iloc[:, 0]\n",
    "\n",
    "# to predict close price, we need open price. same with open price\n",
    "# in dataset_with_closed we have close price to predict open price\n",
    "# in dataset_with_opened we have open price to predict close price\n",
    "dataset_with_closed, dataset_with_opened = dataset.drop(\"open\", axis=1), dataset.drop(\"close\", axis=1)"
   ],
   "metadata": {
    "collapsed": false
   }
  },
  {
   "cell_type": "code",
   "execution_count": 7,
   "outputs": [],
   "source": [
    "regressor_close = LogisticRegression()"
   ],
   "metadata": {
    "collapsed": false
   }
  },
  {
   "cell_type": "code",
   "execution_count": 11,
   "outputs": [
    {
     "ename": "ValueError",
     "evalue": "y should be a 1d array, got an array of shape (5801, 8) instead.",
     "output_type": "error",
     "traceback": [
      "\u001B[0;31m---------------------------------------------------------------------------\u001B[0m",
      "\u001B[0;31mValueError\u001B[0m                                Traceback (most recent call last)",
      "Input \u001B[0;32mIn [11]\u001B[0m, in \u001B[0;36m<cell line: 2>\u001B[0;34m()\u001B[0m\n\u001B[1;32m      1\u001B[0m lab_enc \u001B[38;5;241m=\u001B[39m preprocessing\u001B[38;5;241m.\u001B[39mLabelEncoder()\n\u001B[0;32m----> 2\u001B[0m typed_data_closed \u001B[38;5;241m=\u001B[39m \u001B[43mlab_enc\u001B[49m\u001B[38;5;241;43m.\u001B[39;49m\u001B[43mfit_transform\u001B[49m\u001B[43m(\u001B[49m\u001B[43mdataset_with_closed\u001B[49m\u001B[43m)\u001B[49m\n\u001B[1;32m      3\u001B[0m typed_data_closed\n",
      "File \u001B[0;32m~/opt/anaconda3/lib/python3.9/site-packages/sklearn/preprocessing/_label.py:115\u001B[0m, in \u001B[0;36mLabelEncoder.fit_transform\u001B[0;34m(self, y)\u001B[0m\n\u001B[1;32m    102\u001B[0m \u001B[38;5;28;01mdef\u001B[39;00m \u001B[38;5;21mfit_transform\u001B[39m(\u001B[38;5;28mself\u001B[39m, y):\n\u001B[1;32m    103\u001B[0m     \u001B[38;5;124;03m\"\"\"Fit label encoder and return encoded labels.\u001B[39;00m\n\u001B[1;32m    104\u001B[0m \n\u001B[1;32m    105\u001B[0m \u001B[38;5;124;03m    Parameters\u001B[39;00m\n\u001B[0;32m   (...)\u001B[0m\n\u001B[1;32m    113\u001B[0m \u001B[38;5;124;03m        Encoded labels.\u001B[39;00m\n\u001B[1;32m    114\u001B[0m \u001B[38;5;124;03m    \"\"\"\u001B[39;00m\n\u001B[0;32m--> 115\u001B[0m     y \u001B[38;5;241m=\u001B[39m \u001B[43mcolumn_or_1d\u001B[49m\u001B[43m(\u001B[49m\u001B[43my\u001B[49m\u001B[43m,\u001B[49m\u001B[43m \u001B[49m\u001B[43mwarn\u001B[49m\u001B[38;5;241;43m=\u001B[39;49m\u001B[38;5;28;43;01mTrue\u001B[39;49;00m\u001B[43m)\u001B[49m\n\u001B[1;32m    116\u001B[0m     \u001B[38;5;28mself\u001B[39m\u001B[38;5;241m.\u001B[39mclasses_, y \u001B[38;5;241m=\u001B[39m _unique(y, return_inverse\u001B[38;5;241m=\u001B[39m\u001B[38;5;28;01mTrue\u001B[39;00m)\n\u001B[1;32m    117\u001B[0m     \u001B[38;5;28;01mreturn\u001B[39;00m y\n",
      "File \u001B[0;32m~/opt/anaconda3/lib/python3.9/site-packages/sklearn/utils/validation.py:1038\u001B[0m, in \u001B[0;36mcolumn_or_1d\u001B[0;34m(y, warn)\u001B[0m\n\u001B[1;32m   1029\u001B[0m         warnings\u001B[38;5;241m.\u001B[39mwarn(\n\u001B[1;32m   1030\u001B[0m             \u001B[38;5;124m\"\u001B[39m\u001B[38;5;124mA column-vector y was passed when a 1d array was\u001B[39m\u001B[38;5;124m\"\u001B[39m\n\u001B[1;32m   1031\u001B[0m             \u001B[38;5;124m\"\u001B[39m\u001B[38;5;124m expected. Please change the shape of y to \u001B[39m\u001B[38;5;124m\"\u001B[39m\n\u001B[0;32m   (...)\u001B[0m\n\u001B[1;32m   1034\u001B[0m             stacklevel\u001B[38;5;241m=\u001B[39m\u001B[38;5;241m2\u001B[39m,\n\u001B[1;32m   1035\u001B[0m         )\n\u001B[1;32m   1036\u001B[0m     \u001B[38;5;28;01mreturn\u001B[39;00m np\u001B[38;5;241m.\u001B[39mravel(y)\n\u001B[0;32m-> 1038\u001B[0m \u001B[38;5;28;01mraise\u001B[39;00m \u001B[38;5;167;01mValueError\u001B[39;00m(\n\u001B[1;32m   1039\u001B[0m     \u001B[38;5;124m\"\u001B[39m\u001B[38;5;124my should be a 1d array, got an array of shape \u001B[39m\u001B[38;5;132;01m{}\u001B[39;00m\u001B[38;5;124m instead.\u001B[39m\u001B[38;5;124m\"\u001B[39m\u001B[38;5;241m.\u001B[39mformat(shape)\n\u001B[1;32m   1040\u001B[0m )\n",
      "\u001B[0;31mValueError\u001B[0m: y should be a 1d array, got an array of shape (5801, 8) instead."
     ]
    }
   ],
   "source": [
    "lab_enc = preprocessing.LabelEncoder()\n",
    "typed_data_closed = lab_enc.fit_transform(dataset_with_closed)\n",
    "typed_data_closed"
   ],
   "metadata": {
    "collapsed": false
   }
  },
  {
   "cell_type": "code",
   "execution_count": 8,
   "outputs": [
    {
     "ename": "ValueError",
     "evalue": "Unknown label type: 'continuous'",
     "output_type": "error",
     "traceback": [
      "\u001B[0;31m---------------------------------------------------------------------------\u001B[0m",
      "\u001B[0;31mValueError\u001B[0m                                Traceback (most recent call last)",
      "Input \u001B[0;32mIn [8]\u001B[0m, in \u001B[0;36m<cell line: 1>\u001B[0;34m()\u001B[0m\n\u001B[0;32m----> 1\u001B[0m \u001B[43mregressor_close\u001B[49m\u001B[38;5;241;43m.\u001B[39;49m\u001B[43mfit\u001B[49m\u001B[43m(\u001B[49m\u001B[43mdataset_with_closed\u001B[49m\u001B[43m,\u001B[49m\u001B[43m \u001B[49m\u001B[43mopen_data\u001B[49m\u001B[43m)\u001B[49m\n",
      "File \u001B[0;32m~/opt/anaconda3/lib/python3.9/site-packages/sklearn/linear_model/_logistic.py:1516\u001B[0m, in \u001B[0;36mLogisticRegression.fit\u001B[0;34m(self, X, y, sample_weight)\u001B[0m\n\u001B[1;32m   1506\u001B[0m     _dtype \u001B[38;5;241m=\u001B[39m [np\u001B[38;5;241m.\u001B[39mfloat64, np\u001B[38;5;241m.\u001B[39mfloat32]\n\u001B[1;32m   1508\u001B[0m X, y \u001B[38;5;241m=\u001B[39m \u001B[38;5;28mself\u001B[39m\u001B[38;5;241m.\u001B[39m_validate_data(\n\u001B[1;32m   1509\u001B[0m     X,\n\u001B[1;32m   1510\u001B[0m     y,\n\u001B[0;32m   (...)\u001B[0m\n\u001B[1;32m   1514\u001B[0m     accept_large_sparse\u001B[38;5;241m=\u001B[39msolver \u001B[38;5;129;01mnot\u001B[39;00m \u001B[38;5;129;01min\u001B[39;00m [\u001B[38;5;124m\"\u001B[39m\u001B[38;5;124mliblinear\u001B[39m\u001B[38;5;124m\"\u001B[39m, \u001B[38;5;124m\"\u001B[39m\u001B[38;5;124msag\u001B[39m\u001B[38;5;124m\"\u001B[39m, \u001B[38;5;124m\"\u001B[39m\u001B[38;5;124msaga\u001B[39m\u001B[38;5;124m\"\u001B[39m],\n\u001B[1;32m   1515\u001B[0m )\n\u001B[0;32m-> 1516\u001B[0m \u001B[43mcheck_classification_targets\u001B[49m\u001B[43m(\u001B[49m\u001B[43my\u001B[49m\u001B[43m)\u001B[49m\n\u001B[1;32m   1517\u001B[0m \u001B[38;5;28mself\u001B[39m\u001B[38;5;241m.\u001B[39mclasses_ \u001B[38;5;241m=\u001B[39m np\u001B[38;5;241m.\u001B[39munique(y)\n\u001B[1;32m   1519\u001B[0m multi_class \u001B[38;5;241m=\u001B[39m _check_multi_class(\u001B[38;5;28mself\u001B[39m\u001B[38;5;241m.\u001B[39mmulti_class, solver, \u001B[38;5;28mlen\u001B[39m(\u001B[38;5;28mself\u001B[39m\u001B[38;5;241m.\u001B[39mclasses_))\n",
      "File \u001B[0;32m~/opt/anaconda3/lib/python3.9/site-packages/sklearn/utils/multiclass.py:197\u001B[0m, in \u001B[0;36mcheck_classification_targets\u001B[0;34m(y)\u001B[0m\n\u001B[1;32m    189\u001B[0m y_type \u001B[38;5;241m=\u001B[39m type_of_target(y)\n\u001B[1;32m    190\u001B[0m \u001B[38;5;28;01mif\u001B[39;00m y_type \u001B[38;5;129;01mnot\u001B[39;00m \u001B[38;5;129;01min\u001B[39;00m [\n\u001B[1;32m    191\u001B[0m     \u001B[38;5;124m\"\u001B[39m\u001B[38;5;124mbinary\u001B[39m\u001B[38;5;124m\"\u001B[39m,\n\u001B[1;32m    192\u001B[0m     \u001B[38;5;124m\"\u001B[39m\u001B[38;5;124mmulticlass\u001B[39m\u001B[38;5;124m\"\u001B[39m,\n\u001B[0;32m   (...)\u001B[0m\n\u001B[1;32m    195\u001B[0m     \u001B[38;5;124m\"\u001B[39m\u001B[38;5;124mmultilabel-sequences\u001B[39m\u001B[38;5;124m\"\u001B[39m,\n\u001B[1;32m    196\u001B[0m ]:\n\u001B[0;32m--> 197\u001B[0m     \u001B[38;5;28;01mraise\u001B[39;00m \u001B[38;5;167;01mValueError\u001B[39;00m(\u001B[38;5;124m\"\u001B[39m\u001B[38;5;124mUnknown label type: \u001B[39m\u001B[38;5;132;01m%r\u001B[39;00m\u001B[38;5;124m\"\u001B[39m \u001B[38;5;241m%\u001B[39m y_type)\n",
      "\u001B[0;31mValueError\u001B[0m: Unknown label type: 'continuous'"
     ]
    }
   ],
   "source": [
    "regressor_close.fit(dataset_with_closed, open_data)"
   ],
   "metadata": {
    "collapsed": false
   }
  },
  {
   "cell_type": "code",
   "execution_count": null,
   "outputs": [],
   "source": [],
   "metadata": {
    "collapsed": false
   }
  }
 ],
 "metadata": {
  "kernelspec": {
   "display_name": "Python 3",
   "language": "python",
   "name": "python3"
  },
  "language_info": {
   "codemirror_mode": {
    "name": "ipython",
    "version": 2
   },
   "file_extension": ".py",
   "mimetype": "text/x-python",
   "name": "python",
   "nbconvert_exporter": "python",
   "pygments_lexer": "ipython2",
   "version": "2.7.6"
  }
 },
 "nbformat": 4,
 "nbformat_minor": 0
}
